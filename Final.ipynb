{
 "cells": [
  {
   "cell_type": "markdown",
   "metadata": {},
   "source": [
    "## Requirements"
   ]
  },
  {
   "cell_type": "code",
   "execution_count": null,
   "metadata": {},
   "outputs": [],
   "source": [
    "# u-net model with up-convolution or up-sampling and weighted binary-crossentropy as loss func\n",
    "import os\n",
    "import numpy as np\n",
    "import tifffile as tiff\n",
    "import math\n",
    "from PIL import Image\n",
    "from keras.models import Model\n",
    "from keras.layers import Input, Conv2D, MaxPooling2D, UpSampling2D, concatenate, Conv2DTranspose, BatchNormalization, Dropout\n",
    "from keras.optimizers import Adam\n",
    "from keras.utils import plot_model\n",
    "from keras import backend as K\n",
    "from keras.callbacks import CSVLogger\n",
    "from keras.callbacks import TensorBoard\n",
    "from keras.callbacks import ModelCheckpoint, EarlyStopping, ReduceLROnPlateau\n",
    "from keras.models import model_from_json"
   ]
  },
  {
   "cell_type": "markdown",
   "metadata": {},
   "source": [
    "## Utility Functions"
   ]
  },
  {
   "cell_type": "code",
   "execution_count": 3,
   "metadata": {},
   "outputs": [],
   "source": [
    "def normalize(img):\n",
    "    min = img.min()\n",
    "    max = img.max()\n",
    "    x = 2.0 * (img - min) / (max - min) - 1.0\n",
    "    return x"
   ]
  },
  {
   "cell_type": "markdown",
   "metadata": {},
   "source": [
    "## Model"
   ]
  },
  {
   "cell_type": "markdown",
   "metadata": {},
   "source": [
    "Model Image"
   ]
  },
  {
   "cell_type": "code",
   "execution_count": 2,
   "metadata": {},
   "outputs": [],
   "source": [
    "def unet_model(n_classes=5, im_sz=160, n_channels=8, n_filters_start=32, growth_factor=2, upconv=True,\n",
    "               class_weights=[0.2, 0.3, 0.1, 0.1, 0.3]):\n",
    "    droprate=0.25\n",
    "    n_filters = n_filters_start\n",
    "    inputs = Input((im_sz, im_sz, n_channels))\n",
    "    #inputs = BatchNormalization()(inputs)\n",
    "    conv1 = Conv2D(n_filters, (3, 3), activation='relu', padding='same')(inputs)\n",
    "    conv1 = Conv2D(n_filters, (3, 3), activation='relu', padding='same')(conv1)\n",
    "    pool1 = MaxPooling2D(pool_size=(2, 2))(conv1)\n",
    "    #pool1 = Dropout(droprate)(pool1)\n",
    "\n",
    "    n_filters *= growth_factor\n",
    "    pool1 = BatchNormalization()(pool1)\n",
    "    conv2 = Conv2D(n_filters, (3, 3), activation='relu', padding='same')(pool1)\n",
    "    conv2 = Conv2D(n_filters, (3, 3), activation='relu', padding='same')(conv2)\n",
    "    pool2 = MaxPooling2D(pool_size=(2, 2))(conv2)\n",
    "    pool2 = Dropout(droprate)(pool2)\n",
    "\n",
    "    n_filters *= growth_factor\n",
    "    pool2 = BatchNormalization()(pool2)\n",
    "    conv3 = Conv2D(n_filters, (3, 3), activation='relu', padding='same')(pool2)\n",
    "    conv3 = Conv2D(n_filters, (3, 3), activation='relu', padding='same')(conv3)\n",
    "    pool3 = MaxPooling2D(pool_size=(2, 2))(conv3)\n",
    "    pool3 = Dropout(droprate)(pool3)\n",
    "\n",
    "    n_filters *= growth_factor\n",
    "    pool3 = BatchNormalization()(pool3)\n",
    "    conv4_0 = Conv2D(n_filters, (3, 3), activation='relu', padding='same')(pool3)\n",
    "    conv4_0 = Conv2D(n_filters, (3, 3), activation='relu', padding='same')(conv4_0)\n",
    "    pool4_1 = MaxPooling2D(pool_size=(2, 2))(conv4_0)\n",
    "    pool4_1 = Dropout(droprate)(pool4_1)\n",
    "\n",
    "    n_filters *= growth_factor\n",
    "    pool4_1 = BatchNormalization()(pool4_1)\n",
    "    conv4_1 = Conv2D(n_filters, (3, 3), activation='relu', padding='same')(pool4_1)\n",
    "    conv4_1 = Conv2D(n_filters, (3, 3), activation='relu', padding='same')(conv4_1)\n",
    "    pool4_2 = MaxPooling2D(pool_size=(2, 2))(conv4_1)\n",
    "    pool4_2 = Dropout(droprate)(pool4_2)\n",
    "\n",
    "    n_filters *= growth_factor\n",
    "    conv5 = Conv2D(n_filters, (3, 3), activation='relu', padding='same')(pool4_2)\n",
    "    conv5 = Conv2D(n_filters, (3, 3), activation='relu', padding='same')(conv5)\n",
    "\n",
    "    n_filters //= growth_factor\n",
    "    if upconv:\n",
    "        up6_1 = concatenate([Conv2DTranspose(n_filters, (2, 2), strides=(2, 2), padding='same')(conv5), conv4_1])\n",
    "    else:\n",
    "        up6_1 = concatenate([UpSampling2D(size=(2, 2))(conv5), conv4_1])\n",
    "    up6_1 = BatchNormalization()(up6_1)\n",
    "    conv6_1 = Conv2D(n_filters, (3, 3), activation='relu', padding='same')(up6_1)\n",
    "    conv6_1 = Conv2D(n_filters, (3, 3), activation='relu', padding='same')(conv6_1)\n",
    "    conv6_1 = Dropout(droprate)(conv6_1)\n",
    "\n",
    "    n_filters //= growth_factor\n",
    "    if upconv:\n",
    "        up6_2 = concatenate([Conv2DTranspose(n_filters, (2, 2), strides=(2, 2), padding='same')(conv6_1), conv4_0])\n",
    "    else:\n",
    "        up6_2 = concatenate([UpSampling2D(size=(2, 2))(conv6_1), conv4_0])\n",
    "    up6_2 = BatchNormalization()(up6_2)\n",
    "    conv6_2 = Conv2D(n_filters, (3, 3), activation='relu', padding='same')(up6_2)\n",
    "    conv6_2 = Conv2D(n_filters, (3, 3), activation='relu', padding='same')(conv6_2)\n",
    "    conv6_2 = Dropout(droprate)(conv6_2)\n",
    "\n",
    "    n_filters //= growth_factor\n",
    "    if upconv:\n",
    "        up7 = concatenate([Conv2DTranspose(n_filters, (2, 2), strides=(2, 2), padding='same')(conv6_2), conv3])\n",
    "    else:\n",
    "        up7 = concatenate([UpSampling2D(size=(2, 2))(conv6_2), conv3])\n",
    "    up7 = BatchNormalization()(up7)\n",
    "    conv7 = Conv2D(n_filters, (3, 3), activation='relu', padding='same')(up7)\n",
    "    conv7 = Conv2D(n_filters, (3, 3), activation='relu', padding='same')(conv7)\n",
    "    conv7 = Dropout(droprate)(conv7)\n",
    "\n",
    "    n_filters //= growth_factor\n",
    "    if upconv:\n",
    "        up8 = concatenate([Conv2DTranspose(n_filters, (2, 2), strides=(2, 2), padding='same')(conv7), conv2])\n",
    "    else:\n",
    "        up8 = concatenate([UpSampling2D(size=(2, 2))(conv7), conv2])\n",
    "    up8 = BatchNormalization()(up8)\n",
    "    conv8 = Conv2D(n_filters, (3, 3), activation='relu', padding='same')(up8)\n",
    "    conv8 = Conv2D(n_filters, (3, 3), activation='relu', padding='same')(conv8)\n",
    "    conv8 = Dropout(droprate)(conv8)\n",
    "\n",
    "    n_filters //= growth_factor\n",
    "    if upconv:\n",
    "        up9 = concatenate([Conv2DTranspose(n_filters, (2, 2), strides=(2, 2), padding='same')(conv8), conv1])\n",
    "    else:\n",
    "        up9 = concatenate([UpSampling2D(size=(2, 2))(conv8), conv1])\n",
    "    conv9 = Conv2D(n_filters, (3, 3), activation='relu', padding='same')(up9)\n",
    "    conv9 = Conv2D(n_filters, (3, 3), activation='relu', padding='same')(conv9)\n",
    "\n",
    "    conv10 = Conv2D(n_classes, (1, 1), activation='sigmoid')(conv9)\n",
    "\n",
    "    model = Model(inputs=inputs, outputs=conv10)\n",
    "\n",
    "    def weighted_binary_crossentropy(y_true, y_pred):\n",
    "        class_loglosses = K.mean(K.binary_crossentropy(y_true, y_pred), axis=[0, 1, 2])\n",
    "        return K.sum(class_loglosses * K.constant(class_weights))\n",
    "\n",
    "    model.compile(optimizer=Adam(), loss=weighted_binary_crossentropy)\n",
    "    return model"
   ]
  },
  {
   "cell_type": "code",
   "execution_count": 4,
   "metadata": {},
   "outputs": [],
   "source": [
    "def get_model():\n",
    "    return unet_model(N_CLASSES, PATCH_SZ, n_channels=N_BANDS, upconv=UPCONV, class_weights=CLASS_WEIGHTS)"
   ]
  },
  {
   "cell_type": "markdown",
   "metadata": {},
   "source": [
    "## Parameters"
   ]
  },
  {
   "cell_type": "code",
   "execution_count": null,
   "metadata": {},
   "outputs": [],
   "source": [
    "N_BANDS = 4\n",
    "N_CLASSES = 8  # Roads, Trees, Bare Soil, Rails, Buildings, Grass, Water, Pools\n",
    "CLASS_WEIGHTS = [0.2, 0.1, 0.1, 0.1, 0.1, 0.1, 0.1, 0.1]\n",
    "N_EPOCHS = 150\n",
    "UPCONV = True\n",
    "PATCH_SZ = 160   # should divide by 16\n",
    "BATCH_SIZE = 150\n",
    "TRAIN_SZ = 4000  # train size\n",
    "VAL_SZ = 1000    # validation size"
   ]
  },
  {
   "cell_type": "markdown",
   "metadata": {},
   "source": [
    "## Preparation for Training"
   ]
  },
  {
   "cell_type": "code",
   "execution_count": null,
   "metadata": {},
   "outputs": [],
   "source": [
    "weights_path = 'weights'\n",
    "if not os.path.exists(weights_path):\n",
    "    os.makedirs(weights_path)\n",
    "weights_path += '/weights.hdf5'\n",
    "\n",
    "# all availiable ids: from \"1\" to \"14\"\n",
    "trainIds = [str(i) for i in range(1, 15)]"
   ]
  },
  {
   "cell_type": "code",
   "execution_count": null,
   "metadata": {},
   "outputs": [],
   "source": [
    "X_DICT_TRAIN = dict()\n",
    "Y_DICT_TRAIN = dict()\n",
    "X_DICT_VALIDATION = dict()\n",
    "Y_DICT_VALIDATION = dict()"
   ]
  },
  {
   "cell_type": "code",
   "execution_count": null,
   "metadata": {},
   "outputs": [],
   "source": [
    "def loadImages():\n",
    "    print('Reading images')\n",
    "    for img_id in trainIds:\n",
    "        img_m = normalize(tiff.imread('./data/sat/{}.tif'.format(img_id)).transpose([1, 2, 0]))\n",
    "        mask = np.array(Image.open('./data/gt/{}.tif'.format(img_id))).transpose([1, 2, 0]) / 255\n",
    "        train_xsz = int(3/4 * img_m.shape[0]) # 3/4th of data set for training\n",
    "        X_DICT_TRAIN[img_id] = img_m[:train_xsz, :, :]\n",
    "        Y_DICT_TRAIN[img_id] = mask[:train_xsz, :, :]\n",
    "        X_DICT_VALIDATION[img_id] = img_m[train_xsz:, :, :]\n",
    "        Y_DICT_VALIDATION[img_id] = mask[train_xsz:, :, :]\n",
    "        print(img_id + ' read')\n",
    "    print('Images were read')"
   ]
  },
  {
   "cell_type": "markdown",
   "metadata": {},
   "source": [
    "## Training"
   ]
  },
  {
   "cell_type": "code",
   "execution_count": null,
   "metadata": {},
   "outputs": [],
   "source": [
    "def train_net():\n",
    "    print(\"start train net\")\n",
    "    x_train, y_train = get_patches(\n",
    "        X_DICT_TRAIN, Y_DICT_TRAIN, n_patches=TRAIN_SZ, sz=PATCH_SZ)\n",
    "    x_val, y_val = get_patches(\n",
    "        X_DICT_VALIDATION, Y_DICT_VALIDATION, n_patches=VAL_SZ, sz=PATCH_SZ)\n",
    "    model = get_model()\n",
    "    if os.path.isfile(weights_path):\n",
    "        model.load_weights(weights_path)\n",
    "    #model_checkpoint = ModelCheckpoint(weights_path, monitor='val_loss', save_weights_only=True, save_best_only=True)\n",
    "    #early_stopping = EarlyStopping(monitor='val_loss', min_delta=0, patience=10, verbose=1, mode='auto')\n",
    "    #reduce_lr = ReduceLROnPlateau(monitor='loss', factor=0.1, patience=5, min_lr=0.00001)\n",
    "    model_checkpoint = ModelCheckpoint(\n",
    "        weights_path, monitor='val_loss', save_best_only=True)\n",
    "    csv_logger = CSVLogger('log_unet.csv', append=True, separator=';')\n",
    "    tensorboard = TensorBoard(\n",
    "        log_dir='./tensorboard_unet/', write_graph=True, write_images=True)\n",
    "    model.fit(x_train, y_train, batch_size=BATCH_SIZE, epochs=N_EPOCHS,\n",
    "              verbose=2, shuffle=True,\n",
    "              callbacks=[model_checkpoint, csv_logger, tensorboard],\n",
    "              validation_data=(x_val, y_val))\n",
    "    return model"
   ]
  },
  {
   "cell_type": "code",
   "execution_count": null,
   "metadata": {},
   "outputs": [],
   "source": [
    "loadImages()\n",
    "model = train_net()"
   ]
  },
  {
   "cell_type": "markdown",
   "metadata": {},
   "source": [
    "## Evaluation"
   ]
  },
  {
   "cell_type": "code",
   "execution_count": null,
   "metadata": {},
   "outputs": [],
   "source": [
    "# evaluate the model\n",
    "scores = model.evaluate(x_train, y_train, verbose=0)\n",
    "scores_val = model.evaluate(x_val, y_val, verbose=0)\n",
    "print(\"%s: %.2f%%\" % (model.metrics_names[1], scores[1]*100))"
   ]
  },
  {
   "cell_type": "markdown",
   "metadata": {},
   "source": [
    "## Saving the model"
   ]
  },
  {
   "cell_type": "code",
   "execution_count": null,
   "metadata": {},
   "outputs": [],
   "source": [
    "# serialize model to JSON\n",
    "model_json = model.to_json()\n",
    "with open(os.path.join(\"weights\", \"model.json\"), \"w\") as json_file:\n",
    "    json_file.write(model_json)\n",
    "# serialize weights to HDF5\n",
    "model.save_weights(os.path.join(\"weights\", \"weights.hdf5\"))\n",
    "print(\"Saved model to disk\")"
   ]
  },
  {
   "cell_type": "markdown",
   "metadata": {},
   "source": [
    "## Prediction"
   ]
  },
  {
   "cell_type": "code",
   "execution_count": null,
   "metadata": {},
   "outputs": [],
   "source": [
    "def predict(x, model, patch_sz=160, n_classes=5):\n",
    "    img_height = x.shape[0]\n",
    "    img_width = x.shape[1]\n",
    "    n_channels = x.shape[2]\n",
    "    # make extended img so that it contains integer number of patches\n",
    "    npatches_vertical = math.ceil(img_height / patch_sz)\n",
    "    npatches_horizontal = math.ceil(img_width / patch_sz)\n",
    "    extended_height = patch_sz * npatches_vertical\n",
    "    extended_width = patch_sz * npatches_horizontal\n",
    "    ext_x = np.zeros(shape=(extended_height, extended_width,\n",
    "                            n_channels), dtype=np.float32)\n",
    "    # fill extended image with mirrors:\n",
    "    ext_x[:img_height, :img_width, :] = x\n",
    "    for i in range(img_height, extended_height):\n",
    "        ext_x[i, :, :] = ext_x[2 * img_height - i - 1, :, :]\n",
    "    for j in range(img_width, extended_width):\n",
    "        ext_x[:, j, :] = ext_x[:, 2 * img_width - j - 1, :]\n",
    "\n",
    "    # now we assemble all patches in one array\n",
    "    patches_list = []\n",
    "    for i in range(0, npatches_vertical):\n",
    "        for j in range(0, npatches_horizontal):\n",
    "            x0, x1 = i * patch_sz, (i + 1) * patch_sz\n",
    "            y0, y1 = j * patch_sz, (j + 1) * patch_sz\n",
    "            patches_list.append(ext_x[x0:x1, y0:y1, :])\n",
    "    # model.predict() needs numpy array rather than a list\n",
    "    patches_array = np.asarray(patches_list)\n",
    "    # predictions:\n",
    "    patches_predict = model.predict(patches_array, batch_size=4)\n",
    "    prediction = np.zeros(\n",
    "        shape=(extended_height, extended_width, n_classes), dtype=np.float32)\n",
    "    for k in range(patches_predict.shape[0]):\n",
    "        i = k // npatches_horizontal\n",
    "        j = k % npatches_vertical\n",
    "        x0, x1 = i * patch_sz, (i + 1) * patch_sz\n",
    "        y0, y1 = j * patch_sz, (j + 1) * patch_sz\n",
    "        prediction[x0:x1, y0:y1, :] = patches_predict[k, :, :, :]\n",
    "    return prediction[:img_height, :img_width, :]"
   ]
  },
  {
   "cell_type": "code",
   "execution_count": null,
   "metadata": {},
   "outputs": [],
   "source": [
    "def picture_from_mask(mask, threshold=0):\n",
    "    colors = {\n",
    "        0: [150, 150, 150],  # Roads\n",
    "        1: [223, 194, 125],  # Trees\n",
    "        2: [27, 120, 55],    # Bare Soil\n",
    "        3: [166, 219, 160],  # Building\n",
    "        4: [116, 173, 209]   # Grass\n",
    "        5: [169,169,169]     # Water\n",
    "        6: [0,191,255]       # Pools\n",
    "    }\n",
    "    z_order = {\n",
    "        1: 3,\n",
    "        2: 4,\n",
    "        3: 5,\n",
    "        4: 6,\n",
    "        5: 7,\n",
    "        6: 8,\n",
    "        7: 1,\n",
    "        8: 2\n",
    "    }\n",
    "    pict = 255*np.ones(shape=(3, mask.shape[1], mask.shape[2]), dtype=np.uint8)\n",
    "    for i in range(1, 6):\n",
    "        cl = z_order[i]\n",
    "        for ch in range(3):\n",
    "            pict[ch, :, :][mask[cl, :, :] > threshold] = colors[cl][ch]\n",
    "    return pict\n",
    "\n"
   ]
  },
  {
   "cell_type": "code",
   "execution_count": null,
   "metadata": {},
   "outputs": [],
   "source": [
    "model = get_model()\n",
    "model.load_weights(weights_path)\n",
    "test_id = 'test'\n",
    "img = normalize(tiff.imread('data/mband/{}.tif'.format(test_id)).transpose([1, 2, 0]))   # make channels last\n",
    "\n",
    "for i in range(7):\n",
    "    if i == 0:  # reverse first dimension\n",
    "        mymat = predict(img[::-1, :, :], model, patch_sz=PATCH_SZ,\n",
    "                        n_classes=N_CLASSES).transpose([2, 0, 1])\n",
    "        #print(mymat[0][0][0], mymat[3][12][13])\n",
    "        print(\"Case 1\", img.shape, mymat.shape)\n",
    "    elif i == 1:    # reverse second dimension\n",
    "        temp = predict(img[:, ::-1, :], model, patch_sz=PATCH_SZ,\n",
    "                       n_classes=N_CLASSES).transpose([2, 0, 1])\n",
    "        #print(temp[0][0][0], temp[3][12][13])\n",
    "        print(\"Case 2\", temp.shape, mymat.shape)\n",
    "        mymat = np.mean(np.array([temp[:, ::-1, :], mymat]), axis=0)\n",
    "    elif i == 2:    # transpose(interchange) first and second dimensions\n",
    "        temp = predict(img.transpose(\n",
    "            [1, 0, 2]), model, patch_sz=PATCH_SZ, n_classes=N_CLASSES).transpose([2, 0, 1])\n",
    "        #print(temp[0][0][0], temp[3][12][13])\n",
    "        print(\"Case 3\", temp.shape, mymat.shape)\n",
    "        mymat = np.mean(np.array([temp.transpose(0, 2, 1), mymat]), axis=0)\n",
    "    elif i == 3:\n",
    "        temp = predict(np.rot90(img, 1), model,\n",
    "                       patch_sz=PATCH_SZ, n_classes=N_CLASSES)\n",
    "        #print(temp.transpose([2,0,1])[0][0][0], temp.transpose([2,0,1])[3][12][13])\n",
    "        print(\"Case 4\", temp.shape, mymat.shape)\n",
    "        mymat = np.mean(\n",
    "            np.array([np.rot90(temp, -1).transpose([2, 0, 1]), mymat]), axis=0)\n",
    "    elif i == 4:\n",
    "        temp = predict(np.rot90(img, 2), model,\n",
    "                       patch_sz=PATCH_SZ, n_classes=N_CLASSES)\n",
    "        #print(temp.transpose([2,0,1])[0][0][0], temp.transpose([2,0,1])[3][12][13])\n",
    "        print(\"Case 5\", temp.shape, mymat.shape)\n",
    "        mymat = np.mean(\n",
    "            np.array([np.rot90(temp, -2).transpose([2, 0, 1]), mymat]), axis=0)\n",
    "    elif i == 5:\n",
    "        temp = predict(np.rot90(img, 3), model,\n",
    "                       patch_sz=PATCH_SZ, n_classes=N_CLASSES)\n",
    "        #print(temp.transpose([2,0,1])[0][0][0], temp.transpose([2,0,1])[3][12][13])\n",
    "        print(\"Case 6\", temp.shape, mymat.shape)\n",
    "        mymat = np.mean(\n",
    "            np.array([np.rot90(temp, -3).transpose(2, 0, 1), mymat]), axis=0)\n",
    "    else:\n",
    "        temp = predict(img, model, patch_sz=PATCH_SZ,\n",
    "                       n_classes=N_CLASSES).transpose([2, 0, 1])\n",
    "        #print(temp[0][0][0], temp[3][12][13])\n",
    "        print(\"Case 7\", temp.shape, mymat.shape)\n",
    "        mymat = np.mean(np.array([temp, mymat]), axis=0)\n",
    "\n",
    "#print(mymat[0][0][0], mymat[3][12][13])\n",
    "map = picture_from_mask(mymat, 0.5)\n",
    "# mask = predict(img, model, patch_sz=PATCH_SZ, n_classes=N_CLASSES).transpose([2,0,1])  # make channels first\n",
    "#map = picture_from_mask(mask, 0.5)\n",
    "\n",
    "#tiff.imsave('result.tif', (255*mask).astype('uint8'))\n",
    "tiff.imsave('result.tif', (255*mymat).astype('uint8'))\n",
    "tiff.imsave('map.tif', map)"
   ]
  }
 ],
 "metadata": {
  "kernelspec": {
   "display_name": "Python 3",
   "language": "python",
   "name": "python3"
  },
  "language_info": {
   "codemirror_mode": {
    "name": "ipython",
    "version": 3
   },
   "file_extension": ".py",
   "mimetype": "text/x-python",
   "name": "python",
   "nbconvert_exporter": "python",
   "pygments_lexer": "ipython3",
   "version": "3.6.6"
  },
  "varInspector": {
   "cols": {
    "lenName": 16,
    "lenType": 16,
    "lenVar": 40
   },
   "kernels_config": {
    "python": {
     "delete_cmd_postfix": "",
     "delete_cmd_prefix": "del ",
     "library": "var_list.py",
     "varRefreshCmd": "print(var_dic_list())"
    },
    "r": {
     "delete_cmd_postfix": ") ",
     "delete_cmd_prefix": "rm(",
     "library": "var_list.r",
     "varRefreshCmd": "cat(var_dic_list()) "
    }
   },
   "types_to_exclude": [
    "module",
    "function",
    "builtin_function_or_method",
    "instance",
    "_Feature"
   ],
   "window_display": false
  }
 },
 "nbformat": 4,
 "nbformat_minor": 2
}
